{
 "cells": [
  {
   "attachments": {},
   "cell_type": "markdown",
   "metadata": {},
   "source": [
    "# CDB GUI V0.2"
   ]
  },
  {
   "cell_type": "code",
   "execution_count": 1,
   "metadata": {},
   "outputs": [
    {
     "name": "stdout",
     "output_type": "stream",
     "text": [
      "Found 3 channels\n",
      "0. Kvaser Leaf Light v2 (channel 0) (73-30130-00685-0 / 113660)\n",
      "1. Kvaser Virtual CAN Driver (channel 0) (00-00000-00000-0 / 0)\n",
      "2. Kvaser Virtual CAN Driver (channel 1) (00-00000-00000-0 / 0)\n",
      "\n",
      "[22:32:48.818448] CDB_GUI V0.2 started!\n",
      "\n"
     ]
    }
   ],
   "source": [
    "##### 设定cdb参数值 （只影响界面初值，GUI中可改） #####\n",
    "# buffer缓冲区大小，取决于硬件及C代码\n",
    "buffSize_init = \"15 * 4 * 1024 / 2\"\n",
    "# 触发时间阈值（特定触发模式下才用到）\n",
    "trigTimeTar_init = \"40 * 2\"\n",
    "# buffer缓冲区起始地址\n",
    "startAddr_init = \"0x9000\"\n",
    "# dump大小\n",
    "dumpSize_init = \"15 * 4 * 1024 / 2\"\n",
    "# 主中断频率\n",
    "IsrFreq_init = \"30e3\"\n",
    "\n",
    "##### 定义界面元素初值 #####\n",
    "\n",
    "paraSetPreDefName = [\n",
    "    \"CH1_cur_mode\",  # 1\n",
    "    \"\",  # 2\n",
    "    \"\",  # 3\n",
    "    \"\",  # 4\n",
    "    \"\",  # 5\n",
    "    \"\",  # 6\n",
    "    \"\",  # 7\n",
    "    \"\",  # 8\n",
    "    \"\",  # 9\n",
    "]\n",
    "trigSrcPreDefName = [\n",
    "    \"CH1_Udc\",  # 1\n",
    "    \"\",  # 2\n",
    "]\n",
    "\n",
    "logSrcPreDefName = [\n",
    "    \"CH1_Udc\",  # 1\n",
    "    \"\",  # 2\n",
    "    \"\",  # 3\n",
    "    \"\",  # 4\n",
    "    \"\",  # 5\n",
    "    \"\",  # 6\n",
    "    \"\",  # 7\n",
    "    \"\",  # 8\n",
    "    \"\",  # 9\n",
    "    \"\",  # 10\n",
    "    \"\",  # 11\n",
    "    \"\",  # 12\n",
    "    \"\",  # 13\n",
    "    \"\",  # 14\n",
    "    \"\",  # 15\n",
    "    \"\",  # 16\n",
    "]\n",
    "\n",
    "\n",
    "# 初始化库\n",
    "with open('cdb_gui_init.py', 'rt') as cdb_gui_init_file:\n",
    "    cdb_gui_init_code = cdb_gui_init_file.read()\n",
    "    exec(cdb_gui_init_code)\n"
   ]
  },
  {
   "attachments": {},
   "cell_type": "markdown",
   "metadata": {},
   "source": [
    "# 与此同时，部分脚本API仍然可用，但不要在GUI界面正在工作时运行脚本"
   ]
  },
  {
   "cell_type": "code",
   "execution_count": 2,
   "metadata": {},
   "outputs": [
    {
     "name": "stdout",
     "output_type": "stream",
     "text": [
      "-1\n"
     ]
    },
    {
     "data": {
      "text/plain": [
       "True"
      ]
     },
     "execution_count": 2,
     "metadata": {},
     "output_type": "execute_result"
    }
   ],
   "source": [
    "# 脚本接口示例\n",
    "\n",
    "# 读变量\n",
    "print(readMCUVarUtil(\"CH1_cur_mode\"))\n",
    "\n",
    "# 写变量\n",
    "setMCUVarUtil(\"CH1_cur_mode\", 0)"
   ]
  },
  {
   "cell_type": "code",
   "execution_count": null,
   "metadata": {},
   "outputs": [],
   "source": [
    "# 变开关频率 （10-20k？） 烤电感\n",
    "tar_E_freq = -20\n",
    "pwm_freq = 20000\n",
    "ctrl_freq = 1*pwm_freq\n",
    "tar_thetaEInc = tar_E_freq/ctrl_freq\n",
    "\n",
    "# setMCUVarUtil(\"CH1_cur_mode\", 0)\n",
    "# setMCUVarUtil(\"PWMFreqReqVal\", pwm_freq)\n",
    "# setMCUVarUtil(\"PWMFreqChgEn\", 1)\n",
    "setMCUVarUtil(\"thetaEInc\", tar_thetaEInc)\n",
    "# print(readMCUVarUtil(\"PWMFreqReqVal\"))\n",
    "print(readMCUVarUtil(\"thetaEInc\"))\n",
    "print(time.strftime('%H:%M:%S',time.localtime(time.time())))"
   ]
  },
  {
   "cell_type": "code",
   "execution_count": 2,
   "metadata": {},
   "outputs": [
    {
     "data": {
      "text/plain": [
       "True"
      ]
     },
     "execution_count": 2,
     "metadata": {},
     "output_type": "execute_result"
    }
   ],
   "source": [
    "# 编码器零位自校正\n",
    "tar_E_freq = 10\n",
    "ctrl_freq = 20000\n",
    "tar_thetaEInc = tar_E_freq/ctrl_freq\n",
    "\n",
    "# 初始化\n",
    "setMCUVarUtil(\"IProtectFlg_CH1\", 0)\n",
    "setMCUVarUtil(\"SPDProtectFlg\", 0)\n",
    "\n",
    "setMCUVarUtil(\"CH1_cur_mode\", 0)\n",
    "setMCUVarUtil(\"speed_mode\", 0)\n",
    "\n",
    "setMCUVarUtil(\"CH1_ext_fcn\", 1)\n",
    "\n",
    "# 先让电机转几圈\n",
    "setMCUVarUtil(\"CH1_angle_mode\", 0)\n",
    "setMCUVarUtil(\"channel_mode\", 1)\n",
    "setMCUVarUtil(\"torque_mode\", 0)\n",
    "setMCUVarUtil(\"targetThetaE_CH1\", 0)\n",
    "\n",
    "setMCUVarUtil(\"thetaEInc\", tar_thetaEInc)\n",
    "\n",
    "setMCUVarUtil(\"CH1_cur_mode\", 2)\n",
    "\n",
    "setMCUVarUtil(\"targetId_CH1\", 1)\n",
    "\n",
    "setMCUVarUtil(\"CH1_angle_mode\", 1)\n",
    "\n",
    "time.sleep(2)\n",
    "\n",
    "# 再用预定位法\n",
    "setMCUVarUtil(\"CH1_angle_mode\", 0)\n",
    "setMCUVarUtil(\"targetThetaE_CH1\", 0)\n",
    "\n",
    "# temp=0.3\n",
    "# delta=0.01\n",
    "# while(temp>delta):\n",
    "#     setMCUVarUtil(\"targetThetaE_CH1\", temp)\n",
    "#     temp-=delta\n",
    "# setMCUVarUtil(\"targetThetaE_CH1\", 0)\n",
    "\n",
    "# time.sleep(1)\n",
    "# upper=readMCUVarUtil(\"thetaEnco_raw\")\n",
    "# print(f\"upper={upper}\")\n",
    "\n",
    "# temp=0.3\n",
    "# delta=0.01\n",
    "# while(temp>delta):\n",
    "#     setMCUVarUtil(\"targetThetaE_CH1\", (-temp)%1)\n",
    "#     temp-=delta\n",
    "# setMCUVarUtil(\"targetThetaE_CH1\", 0)\n",
    "\n",
    "# time.sleep(1)\n",
    "# lower=readMCUVarUtil(\"thetaEnco_raw\")\n",
    "# print(f\"lower={lower}\")\n",
    "\n",
    "# setMCUVarUtil(\"CH1_cur_mode\", 0)"
   ]
  },
  {
   "cell_type": "code",
   "execution_count": null,
   "metadata": {},
   "outputs": [],
   "source": [
    "mid=int((upper+lower)/2.0+0.5)%16384\n",
    "print(f\"mid={mid}\")\n",
    "setMCUVarUtil(\"thetaEnco_raw_offset\", mid)"
   ]
  },
  {
   "cell_type": "code",
   "execution_count": null,
   "metadata": {},
   "outputs": [],
   "source": [
    "# 集中修改电流控制器PI参数\n",
    "d_kp=0.56\n",
    "d_ki=0.006\n",
    "q_kp=1.76\n",
    "q_ki=0.006\n",
    "\n",
    "setMCUVarUtil(\"CH1_IdPI.kp\", d_kp)\n",
    "setMCUVarUtil(\"CH1_IdPI.ki\", d_ki)\n",
    "setMCUVarUtil(\"CH1_IqPI.kp\", q_kp)\n",
    "setMCUVarUtil(\"CH1_IqPI.ki\", q_ki)\n"
   ]
  },
  {
   "cell_type": "code",
   "execution_count": null,
   "metadata": {},
   "outputs": [],
   "source": [
    "# 集中修改电压控制器PI参数\n",
    "Udc_kp=733\n",
    "Udc_ki=2.44\n",
    "\n",
    "Udc_kp=700\n",
    "Udc_ki=2\n",
    "\n",
    "setMCUVarUtil(\"UdcPI.kp\", Udc_kp)\n",
    "setMCUVarUtil(\"UdcPI.ki\", Udc_ki)"
   ]
  },
  {
   "cell_type": "code",
   "execution_count": null,
   "metadata": {},
   "outputs": [],
   "source": [
    "# 修改转速控制器PI参数\n",
    "\n",
    "omega_kp=0.0100\n",
    "omega_ki=0.004000\n",
    "\n",
    "setMCUVarUtil(\"omegaPI.kp\", omega_kp)\n",
    "setMCUVarUtil(\"omegaPI.ki\", omega_ki)\n",
    "setMCUVarUtil(\"omegaPI.kb\", omega_ki)\n",
    "\n",
    "print(readMCUVarUtil(\"omegaPI.kp\"))\n",
    "print(readMCUVarUtil(\"omegaPI.ki\"))\n",
    "print(readMCUVarUtil(\"omegaPI.kb\"))"
   ]
  },
  {
   "cell_type": "code",
   "execution_count": null,
   "metadata": {},
   "outputs": [],
   "source": [
    "# prepos run prepare\n",
    "setMCUVarUtil(\"IProtectFlg_CH1\", 0)\n",
    "setMCUVarUtil(\"SPDProtectFlg\", 0)\n",
    "\n",
    "setMCUVarUtil(\"CH1_cur_mode\", 0)\n",
    "setMCUVarUtil(\"speed_mode\", 0)\n",
    "\n",
    "setMCUVarUtil(\"CH1_ext_fcn\", 1)\n",
    "\n",
    "setMCUVarUtil(\"CH1_angle_mode\", 0)\n",
    "setMCUVarUtil(\"targetThetaE_CH1\", 0)\n",
    "setMCUVarUtil(\"channel_mode\", 1)\n",
    "setMCUVarUtil(\"CH1_cur_mode\", 2)\n",
    "setMCUVarUtil(\"speed_mode\", 1)\n",
    "\n"
   ]
  },
  {
   "cell_type": "code",
   "execution_count": null,
   "metadata": {},
   "outputs": [],
   "source": [
    "# speed loop run prepare\n",
    "setMCUVarUtil(\"IProtectFlg_CH1\", 0)\n",
    "setMCUVarUtil(\"SPDProtectFlg\", 0)\n",
    "\n",
    "setMCUVarUtil(\"CH1_cur_mode\", 0)\n",
    "setMCUVarUtil(\"speed_mode\", 0)\n",
    "\n",
    "setMCUVarUtil(\"CH1_ext_fcn\", 7)\n",
    "\n",
    "setMCUVarUtil(\"CH1_angle_mode\", 3)\n",
    "setMCUVarUtil(\"channel_mode\", 1)\n",
    "setMCUVarUtil(\"torque_mode\", 0)\n",
    "\n",
    "setMCUVarUtil(\"targetRampVal\", 0)\n",
    "setMCUVarUtil(\"targetRampGrad\", 500)\n",
    "\n",
    "setMCUVarUtil(\"CH1_cur_mode\", 2)\n",
    "setMCUVarUtil(\"speed_mode\", 5)\n",
    "\n",
    "\n",
    "setMCUVarUtil(\"targetRampVal\", 1000)"
   ]
  },
  {
   "cell_type": "code",
   "execution_count": null,
   "metadata": {},
   "outputs": [],
   "source": [
    "# 死区补偿参数调整\n",
    "\n",
    "db_Ithd_1 = 1/1.0\n",
    "db_cmp_tick = 170\n",
    "db_cmp_vds = 2.8\n",
    "\n",
    "setMCUVarUtil(\"db_Ithd_1\", db_Ithd_1)\n",
    "setMCUVarUtil(\"db_cmp_tick\", db_cmp_tick)\n",
    "setMCUVarUtil(\"db_cmp_vds\", db_cmp_vds)\n",
    "print(readMCUVarUtil(\"db_Ithd_1\"))\n",
    "print(readMCUVarUtil(\"db_cmp_tick\"))\n",
    "print(readMCUVarUtil(\"db_cmp_vds\"))\n"
   ]
  },
  {
   "cell_type": "code",
   "execution_count": null,
   "metadata": {},
   "outputs": [],
   "source": [
    "# 旋转电角度\n",
    "tyj_thetaE = 0.\n",
    "setMCUVarUtil(\"targetThetaE_CH1\", tyj_thetaE)"
   ]
  },
  {
   "cell_type": "code",
   "execution_count": null,
   "metadata": {},
   "outputs": [],
   "source": [
    "# oeca run prepare\n",
    "\n",
    "setMCUVarUtil(\"IProtectFlg_CH1\", 0)\n",
    "setMCUVarUtil(\"SPDProtectFlg\", 0)\n",
    "\n",
    "setMCUVarUtil(\"CH1_cur_mode\", 0)\n",
    "setMCUVarUtil(\"speed_mode\", 0)\n",
    "\n",
    "setMCUVarUtil(\"CH1_angle_mode\", 3)\n",
    "setMCUVarUtil(\"channel_mode\", 1)\n",
    "setMCUVarUtil(\"CH1_cur_mode\", 2)\n",
    "\n",
    "setMCUVarUtil(\"targetRampGrad\", 400)\n"
   ]
  },
  {
   "cell_type": "code",
   "execution_count": null,
   "metadata": {},
   "outputs": [],
   "source": [
    "# 集中修改ADRC控制器参数并回读显示\n",
    "ADRC_mode = 0\n",
    "\n",
    "ADRC_gamma = 0.00065\n",
    "ADRC_c_u1 = 15\n",
    "ADRC_c_u2 = 200\n",
    "ADRC_beta1 = 2500\n",
    "ADRC_beta2 = (ADRC_beta1/2)**2*0.45\n",
    "ADRC_SMCk = 0\n",
    "\n",
    "ADRC_TeMax = 8.0\n",
    "ADRC_TeMin = -22.0\n",
    "\n",
    "b0_k = 1.2\n",
    "\n",
    "setMCUVarUtil(\"UdcAdrc.para_gamma\", ADRC_gamma)\n",
    "setMCUVarUtil(\"UdcAdrc.para_cu1\", ADRC_c_u1)\n",
    "setMCUVarUtil(\"UdcAdrc.para_cu2\", ADRC_c_u2)\n",
    "setMCUVarUtil(\"UdcAdrc.para_beta1\", ADRC_beta1)\n",
    "setMCUVarUtil(\"UdcAdrc.para_beta2\", ADRC_beta2)\n",
    "setMCUVarUtil(\"UdcAdrc.para_SMCk\", ADRC_SMCk)\n",
    "setMCUVarUtil(\"ADRC_mode\", ADRC_mode)\n",
    "setMCUVarUtil(\"UdcAdrc.para_TeMax\", ADRC_TeMax)\n",
    "setMCUVarUtil(\"UdcAdrc.para_TeMin\", ADRC_TeMin)\n",
    "setMCUVarUtil(\"UdcAdrc.b0_k\", b0_k)\n",
    "print(readMCUVarUtil(\"UdcAdrc.para_gamma\"))\n",
    "print(readMCUVarUtil(\"UdcAdrc.para_cu1\"))\n",
    "print(readMCUVarUtil(\"UdcAdrc.para_cu2\"))\n",
    "print(readMCUVarUtil(\"UdcAdrc.para_beta1\"))\n",
    "print(readMCUVarUtil(\"UdcAdrc.para_beta2\"))\n",
    "print(readMCUVarUtil(\"UdcAdrc.para_SMCk\"))\n",
    "print(readMCUVarUtil(\"ADRC_mode\"))\n",
    "print(readMCUVarUtil(\"UdcAdrc.para_TeMax\"))\n",
    "print(readMCUVarUtil(\"UdcAdrc.para_TeMin\"))\n",
    "print(readMCUVarUtil(\"UdcAdrc.b0_k\"))"
   ]
  }
 ],
 "metadata": {
  "kernelspec": {
   "display_name": "can_dev",
   "language": "python",
   "name": "python3"
  },
  "language_info": {
   "codemirror_mode": {
    "name": "ipython",
    "version": 3
   },
   "file_extension": ".py",
   "mimetype": "text/x-python",
   "name": "python",
   "nbconvert_exporter": "python",
   "pygments_lexer": "ipython3",
   "version": "3.11.9"
  },
  "orig_nbformat": 4
 },
 "nbformat": 4,
 "nbformat_minor": 2
}
